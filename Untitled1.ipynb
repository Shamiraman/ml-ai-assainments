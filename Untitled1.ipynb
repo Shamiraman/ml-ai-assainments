{
 "cells": [
  {
   "cell_type": "code",
   "execution_count": 13,
   "id": "63f4b8bd",
   "metadata": {},
   "outputs": [
    {
     "ename": "NameError",
     "evalue": "name 'fruits' is not defined",
     "output_type": "error",
     "traceback": [
      "\u001b[1;31m---------------------------------------------------------------------------\u001b[0m",
      "\u001b[1;31mNameError\u001b[0m                                 Traceback (most recent call last)",
      "Cell \u001b[1;32mIn[13], line 1\u001b[0m\n\u001b[1;32m----> 1\u001b[0m x\u001b[38;5;241m=\u001b[39mfruits\n",
      "\u001b[1;31mNameError\u001b[0m: name 'fruits' is not defined"
     ]
    }
   ],
   "source": []
  },
  {
   "cell_type": "code",
   "execution_count": 6,
   "id": "2722d3d6",
   "metadata": {},
   "outputs": [
    {
     "data": {
      "text/plain": [
       "['apple', 'orange', 'grapes', 'mango', 'pineapple', 'strawbwerry', 'papaya']"
      ]
     },
     "execution_count": 6,
     "metadata": {},
     "output_type": "execute_result"
    }
   ],
   "source": [
    "[\"apple\",\"orange\",\"grapes\",\"mango\",\"pineapple\",\"strawbwerry\",\"papaya\"]"
   ]
  },
  {
   "cell_type": "code",
   "execution_count": 10,
   "id": "83b9bbd9",
   "metadata": {},
   "outputs": [
    {
     "ename": "NameError",
     "evalue": "name 'fruits' is not defined",
     "output_type": "error",
     "traceback": [
      "\u001b[1;31m---------------------------------------------------------------------------\u001b[0m",
      "\u001b[1;31mNameError\u001b[0m                                 Traceback (most recent call last)",
      "Cell \u001b[1;32mIn[10], line 1\u001b[0m\n\u001b[1;32m----> 1\u001b[0m fruits\u001b[38;5;241m.\u001b[39minsert(\u001b[38;5;241m3\u001b[39m,\u001b[38;5;124m\"\u001b[39m\u001b[38;5;124mbanana\u001b[39m\u001b[38;5;124m\"\u001b[39m)\n",
      "\u001b[1;31mNameError\u001b[0m: name 'fruits' is not defined"
     ]
    }
   ],
   "source": [
    "fruits.insert(3,\"banana\")"
   ]
  },
  {
   "cell_type": "code",
   "execution_count": 14,
   "id": "ff266cf2",
   "metadata": {},
   "outputs": [],
   "source": [
    "friuts=['banana','apple','orange','pinapple']"
   ]
  },
  {
   "cell_type": "code",
   "execution_count": 15,
   "id": "39536558",
   "metadata": {},
   "outputs": [
    {
     "data": {
      "text/plain": [
       "['banana', 'apple', 'orange', 'pinapple']"
      ]
     },
     "execution_count": 15,
     "metadata": {},
     "output_type": "execute_result"
    }
   ],
   "source": [
    "friuts"
   ]
  },
  {
   "cell_type": "code",
   "execution_count": 16,
   "id": "f1d9fd43",
   "metadata": {},
   "outputs": [
    {
     "ename": "NameError",
     "evalue": "name 'true' is not defined",
     "output_type": "error",
     "traceback": [
      "\u001b[1;31m---------------------------------------------------------------------------\u001b[0m",
      "\u001b[1;31mNameError\u001b[0m                                 Traceback (most recent call last)",
      "Cell \u001b[1;32mIn[16], line 1\u001b[0m\n\u001b[1;32m----> 1\u001b[0m friuts\u001b[38;5;241m.\u001b[39msort(reverse\u001b[38;5;241m=\u001b[39mtrue)\n",
      "\u001b[1;31mNameError\u001b[0m: name 'true' is not defined"
     ]
    }
   ],
   "source": [
    "friuts.sort(reverse=true)"
   ]
  },
  {
   "cell_type": "code",
   "execution_count": 17,
   "id": "6df99194",
   "metadata": {},
   "outputs": [
    {
     "ename": "NameError",
     "evalue": "name 'fruits' is not defined",
     "output_type": "error",
     "traceback": [
      "\u001b[1;31m---------------------------------------------------------------------------\u001b[0m",
      "\u001b[1;31mNameError\u001b[0m                                 Traceback (most recent call last)",
      "Cell \u001b[1;32mIn[17], line 1\u001b[0m\n\u001b[1;32m----> 1\u001b[0m fruits\n",
      "\u001b[1;31mNameError\u001b[0m: name 'fruits' is not defined"
     ]
    }
   ],
   "source": [
    "fruits"
   ]
  },
  {
   "cell_type": "code",
   "execution_count": 18,
   "id": "ca4d90b5",
   "metadata": {},
   "outputs": [
    {
     "ename": "NameError",
     "evalue": "name 'fruits' is not defined",
     "output_type": "error",
     "traceback": [
      "\u001b[1;31m---------------------------------------------------------------------------\u001b[0m",
      "\u001b[1;31mNameError\u001b[0m                                 Traceback (most recent call last)",
      "Cell \u001b[1;32mIn[18], line 1\u001b[0m\n\u001b[1;32m----> 1\u001b[0m fruits\n",
      "\u001b[1;31mNameError\u001b[0m: name 'fruits' is not defined"
     ]
    }
   ],
   "source": [
    "fruits"
   ]
  },
  {
   "cell_type": "code",
   "execution_count": 21,
   "id": "249efb39",
   "metadata": {},
   "outputs": [],
   "source": [
    "# tuple"
   ]
  },
  {
   "cell_type": "code",
   "execution_count": 25,
   "id": "c7251982",
   "metadata": {},
   "outputs": [],
   "source": [
    "students=('anon','adharsh','ashker','nidhin')"
   ]
  },
  {
   "cell_type": "code",
   "execution_count": 28,
   "id": "5983a7e4",
   "metadata": {},
   "outputs": [
    {
     "data": {
      "text/plain": [
       "tuple"
      ]
     },
     "execution_count": 28,
     "metadata": {},
     "output_type": "execute_result"
    }
   ],
   "source": [
    "type(students)"
   ]
  },
  {
   "cell_type": "code",
   "execution_count": 31,
   "id": "fd4067a9",
   "metadata": {},
   "outputs": [],
   "source": [
    "#tuple"
   ]
  },
  {
   "cell_type": "code",
   "execution_count": 33,
   "id": "81e1d54a",
   "metadata": {},
   "outputs": [],
   "source": [
    "city=('newyork','lendon')"
   ]
  },
  {
   "cell_type": "code",
   "execution_count": 34,
   "id": "47433778",
   "metadata": {},
   "outputs": [
    {
     "data": {
      "text/plain": [
       "tuple"
      ]
     },
     "execution_count": 34,
     "metadata": {},
     "output_type": "execute_result"
    }
   ],
   "source": [
    "type(city)"
   ]
  },
  {
   "cell_type": "code",
   "execution_count": 35,
   "id": "61b7f57b",
   "metadata": {},
   "outputs": [],
   "source": [
    "s1=list(city)"
   ]
  },
  {
   "cell_type": "code",
   "execution_count": 36,
   "id": "14c17d32",
   "metadata": {},
   "outputs": [
    {
     "data": {
      "text/plain": [
       "['newyork', 'lendon']"
      ]
     },
     "execution_count": 36,
     "metadata": {},
     "output_type": "execute_result"
    }
   ],
   "source": [
    "s1"
   ]
  },
  {
   "cell_type": "code",
   "execution_count": 37,
   "id": "72f56579",
   "metadata": {},
   "outputs": [
    {
     "data": {
      "text/plain": [
       "('newyork', 'lendon')"
      ]
     },
     "execution_count": 37,
     "metadata": {},
     "output_type": "execute_result"
    }
   ],
   "source": [
    "tuple(s1)"
   ]
  },
  {
   "cell_type": "code",
   "execution_count": 38,
   "id": "c258949d",
   "metadata": {},
   "outputs": [],
   "source": [
    "#dictionary"
   ]
  },
  {
   "cell_type": "code",
   "execution_count": 39,
   "id": "b0b95c9a",
   "metadata": {},
   "outputs": [],
   "source": [
    "cities={'kochi':'ernakulam','pala':'kottayam'}"
   ]
  },
  {
   "cell_type": "code",
   "execution_count": 40,
   "id": "906dbce1",
   "metadata": {},
   "outputs": [
    {
     "data": {
      "text/plain": [
       "{'kochi': 'ernakulam', 'pala': 'kottayam'}"
      ]
     },
     "execution_count": 40,
     "metadata": {},
     "output_type": "execute_result"
    }
   ],
   "source": [
    "cities"
   ]
  },
  {
   "cell_type": "code",
   "execution_count": 41,
   "id": "b3280c42",
   "metadata": {},
   "outputs": [],
   "source": [
    "#dictionary"
   ]
  },
  {
   "cell_type": "code",
   "execution_count": 47,
   "id": "1d624e40",
   "metadata": {},
   "outputs": [],
   "source": [
    "friends={'anon':'wayanad','aromal':'chalakudy','akshay':'thrissur'}"
   ]
  },
  {
   "cell_type": "code",
   "execution_count": 43,
   "id": "17cd93cd",
   "metadata": {},
   "outputs": [
    {
     "data": {
      "text/plain": [
       "{'anon': 'wayanad', 'aromal': 'chalakudy', 'akshay': 'trishur'}"
      ]
     },
     "execution_count": 43,
     "metadata": {},
     "output_type": "execute_result"
    }
   ],
   "source": [
    "friends"
   ]
  },
  {
   "cell_type": "code",
   "execution_count": 45,
   "id": "0ccd8990",
   "metadata": {},
   "outputs": [
    {
     "data": {
      "text/plain": [
       "'wayanad'"
      ]
     },
     "execution_count": 45,
     "metadata": {},
     "output_type": "execute_result"
    }
   ],
   "source": [
    "friends['anon']"
   ]
  },
  {
   "cell_type": "code",
   "execution_count": 46,
   "id": "84a779c8",
   "metadata": {},
   "outputs": [
    {
     "data": {
      "text/plain": [
       "'trishur'"
      ]
     },
     "execution_count": 46,
     "metadata": {},
     "output_type": "execute_result"
    }
   ],
   "source": [
    "friends['akshay']"
   ]
  },
  {
   "cell_type": "code",
   "execution_count": 49,
   "id": "0d16bbff",
   "metadata": {},
   "outputs": [
    {
     "data": {
      "text/plain": [
       "'wayanad'"
      ]
     },
     "execution_count": 49,
     "metadata": {},
     "output_type": "execute_result"
    }
   ],
   "source": [
    "friends.pop('anon')"
   ]
  },
  {
   "cell_type": "code",
   "execution_count": 50,
   "id": "07050eef",
   "metadata": {},
   "outputs": [
    {
     "data": {
      "text/plain": [
       "{'aromal': 'chalakudy', 'akshay': 'thrissur'}"
      ]
     },
     "execution_count": 50,
     "metadata": {},
     "output_type": "execute_result"
    }
   ],
   "source": [
    "friends"
   ]
  },
  {
   "cell_type": "code",
   "execution_count": 54,
   "id": "ac5500bd",
   "metadata": {},
   "outputs": [
    {
     "ename": "SyntaxError",
     "evalue": "':' expected after dictionary key (3346284088.py, line 1)",
     "output_type": "error",
     "traceback": [
      "\u001b[1;36m  Cell \u001b[1;32mIn[54], line 1\u001b[1;36m\u001b[0m\n\u001b[1;33m    states={'kL':{'capital':'Tvm','rank:1'},'TN':{'capital':'cni','rank:2'}\u001b[0m\n\u001b[1;37m                                         ^\u001b[0m\n\u001b[1;31mSyntaxError\u001b[0m\u001b[1;31m:\u001b[0m ':' expected after dictionary key\n"
     ]
    }
   ],
   "source": [
    "states={'kL':{'capital':'Tvm','rank:1'},'TN':{'capital':'cni','rank:2'}"
   ]
  },
  {
   "cell_type": "code",
   "execution_count": 55,
   "id": "355e8e93",
   "metadata": {},
   "outputs": [],
   "source": [
    "set_01={'apple','orange','apple','grapes','orange'}"
   ]
  },
  {
   "cell_type": "code",
   "execution_count": 56,
   "id": "25219dbe",
   "metadata": {},
   "outputs": [
    {
     "data": {
      "text/plain": [
       "set"
      ]
     },
     "execution_count": 56,
     "metadata": {},
     "output_type": "execute_result"
    }
   ],
   "source": [
    "type(set_01)"
   ]
  },
  {
   "cell_type": "code",
   "execution_count": 57,
   "id": "1abf493d",
   "metadata": {},
   "outputs": [
    {
     "data": {
      "text/plain": [
       "{'apple', 'grapes', 'orange'}"
      ]
     },
     "execution_count": 57,
     "metadata": {},
     "output_type": "execute_result"
    }
   ],
   "source": [
    "set_01"
   ]
  },
  {
   "cell_type": "code",
   "execution_count": 59,
   "id": "9d0b27bc",
   "metadata": {},
   "outputs": [],
   "source": [
    "set_01.add('kiwi')"
   ]
  },
  {
   "cell_type": "code",
   "execution_count": 60,
   "id": "5c288ad8",
   "metadata": {},
   "outputs": [
    {
     "data": {
      "text/plain": [
       "{'apple', 'grapes', 'kiwi', 'orange'}"
      ]
     },
     "execution_count": 60,
     "metadata": {},
     "output_type": "execute_result"
    }
   ],
   "source": [
    "set_01"
   ]
  },
  {
   "cell_type": "code",
   "execution_count": 61,
   "id": "6456f891",
   "metadata": {},
   "outputs": [
    {
     "data": {
      "text/plain": [
       "'kiwi'"
      ]
     },
     "execution_count": 61,
     "metadata": {},
     "output_type": "execute_result"
    }
   ],
   "source": [
    "set_01.pop()"
   ]
  },
  {
   "cell_type": "code",
   "execution_count": 63,
   "id": "dc647442",
   "metadata": {},
   "outputs": [],
   "source": [
    "set_01.remove('apple')"
   ]
  },
  {
   "cell_type": "code",
   "execution_count": 64,
   "id": "fcdf63f8",
   "metadata": {},
   "outputs": [
    {
     "data": {
      "text/plain": [
       "{'grapes', 'orange'}"
      ]
     },
     "execution_count": 64,
     "metadata": {},
     "output_type": "execute_result"
    }
   ],
   "source": [
    "set_01"
   ]
  },
  {
   "cell_type": "code",
   "execution_count": 65,
   "id": "881002ae",
   "metadata": {},
   "outputs": [],
   "source": [
    "def addition(a,b):\n",
    "    c=a+b\n",
    "    return c"
   ]
  },
  {
   "cell_type": "code",
   "execution_count": 66,
   "id": "81fed362",
   "metadata": {},
   "outputs": [
    {
     "name": "stdout",
     "output_type": "stream",
     "text": [
      "enter no 01:5\n",
      "enter no 02:8\n"
     ]
    },
    {
     "data": {
      "text/plain": [
       "13"
      ]
     },
     "execution_count": 66,
     "metadata": {},
     "output_type": "execute_result"
    }
   ],
   "source": [
    "a=int(input('enter no 01:'))\n",
    "b=int(input('enter no 02:'))\n",
    "addition(a,b)"
   ]
  },
  {
   "cell_type": "code",
   "execution_count": 69,
   "id": "fc7738e7",
   "metadata": {},
   "outputs": [],
   "source": [
    "def addition(a,b):\n",
    "    c=a+b\n",
    "    return c"
   ]
  },
  {
   "cell_type": "code",
   "execution_count": 76,
   "id": "21133acd",
   "metadata": {},
   "outputs": [
    {
     "ename": "SyntaxError",
     "evalue": "expected ':' (2516663894.py, line 3)",
     "output_type": "error",
     "traceback": [
      "\u001b[1;36m  Cell \u001b[1;32mIn[76], line 3\u001b[1;36m\u001b[0m\n\u001b[1;33m    else multiplication(a,b):\u001b[0m\n\u001b[1;37m         ^\u001b[0m\n\u001b[1;31mSyntaxError\u001b[0m\u001b[1;31m:\u001b[0m expected ':'\n"
     ]
    }
   ],
   "source": [
    "if subtraction(a,b):\n",
    "    c=a-b\n",
    "else multiplication(a,b):\n",
    "    c=a*b\n",
    "    return c"
   ]
  },
  {
   "cell_type": "code",
   "execution_count": 5,
   "id": "4f565ead",
   "metadata": {},
   "outputs": [],
   "source": [
    "def add(a,b):\n",
    "    c=a+b\n",
    "    return c"
   ]
  },
  {
   "cell_type": "code",
   "execution_count": 6,
   "id": "1272ff54",
   "metadata": {},
   "outputs": [
    {
     "data": {
      "text/plain": [
       "12"
      ]
     },
     "execution_count": 6,
     "metadata": {},
     "output_type": "execute_result"
    }
   ],
   "source": [
    "add(4,8)"
   ]
  },
  {
   "cell_type": "code",
   "execution_count": 7,
   "id": "db35afc7",
   "metadata": {},
   "outputs": [
    {
     "name": "stdout",
     "output_type": "stream",
     "text": [
      "enter the 1st num6\n",
      "enter the 2nd num8\n",
      "sum is 14\n"
     ]
    }
   ],
   "source": [
    "x = int(input('enter the 1st num'))\n",
    "y = int(input('enter the 2nd num'))\n",
    "print('sum is',add(x,y))"
   ]
  },
  {
   "cell_type": "code",
   "execution_count": 15,
   "id": "9560f259",
   "metadata": {},
   "outputs": [
    {
     "ename": "SyntaxError",
     "evalue": "invalid syntax (1044732331.py, line 6)",
     "output_type": "error",
     "traceback": [
      "\u001b[1;36m  Cell \u001b[1;32mIn[15], line 6\u001b[1;36m\u001b[0m\n\u001b[1;33m    else:\u001b[0m\n\u001b[1;37m    ^\u001b[0m\n\u001b[1;31mSyntaxError\u001b[0m\u001b[1;31m:\u001b[0m invalid syntax\n"
     ]
    }
   ],
   "source": [
    "def largeest(a,b,c):\n",
    "    if a>b and a>c:\n",
    "        return a\n",
    "    elif b>a and b>c:\n",
    "        return b \n",
    "else:\n",
    "    return c"
   ]
  },
  {
   "cell_type": "code",
   "execution_count": 16,
   "id": "99bda934",
   "metadata": {},
   "outputs": [],
   "source": []
  },
  {
   "cell_type": "code",
   "execution_count": 21,
   "id": "85732c85",
   "metadata": {},
   "outputs": [
    {
     "ename": "NameError",
     "evalue": "name 'sc' is not defined",
     "output_type": "error",
     "traceback": [
      "\u001b[1;31m---------------------------------------------------------------------------\u001b[0m",
      "\u001b[1;31mNameError\u001b[0m                                 Traceback (most recent call last)",
      "Cell \u001b[1;32mIn[21], line 4\u001b[0m\n\u001b[0;32m      2\u001b[0m sc_set \u001b[38;5;241m=\u001b[39m \u001b[38;5;28mset\u001b[39m(scores)\n\u001b[0;32m      3\u001b[0m top\u001b[38;5;241m=\u001b[39m \u001b[38;5;28mmax\u001b[39m(sc_set)\n\u001b[1;32m----> 4\u001b[0m sc\u001b[38;5;241m.\u001b[39mset\u001b[38;5;241m.\u001b[39mremove(top)\n\u001b[0;32m      5\u001b[0m \u001b[38;5;28mprint\u001b[39m(\u001b[38;5;28mmax\u001b[39m(sc_set))\n",
      "\u001b[1;31mNameError\u001b[0m: name 'sc' is not defined"
     ]
    }
   ],
   "source": [
    "scores = [6,7,3,2,7]\n",
    "sc_set = set(scores)\n",
    "top= max(sc_set)\n",
    "sc.set.remove(top)\n",
    "print(max(sc_set))"
   ]
  },
  {
   "cell_type": "code",
   "execution_count": 24,
   "id": "f79089d4",
   "metadata": {},
   "outputs": [
    {
     "ename": "NameError",
     "evalue": "name 'sc' is not defined",
     "output_type": "error",
     "traceback": [
      "\u001b[1;31m---------------------------------------------------------------------------\u001b[0m",
      "\u001b[1;31mNameError\u001b[0m                                 Traceback (most recent call last)",
      "Cell \u001b[1;32mIn[24], line 4\u001b[0m\n\u001b[0;32m      2\u001b[0m sc_set \u001b[38;5;241m=\u001b[39m \u001b[38;5;28mset\u001b[39m(scores)\n\u001b[0;32m      3\u001b[0m top\u001b[38;5;241m=\u001b[39m \u001b[38;5;28mmax\u001b[39m(sc_set)\n\u001b[1;32m----> 4\u001b[0m sc\u001b[38;5;241m.\u001b[39mset\u001b[38;5;241m.\u001b[39mremove(top)\n\u001b[0;32m      5\u001b[0m \u001b[38;5;28mprint\u001b[39m(\u001b[38;5;28mmax\u001b[39m(sc_set))\n",
      "\u001b[1;31mNameError\u001b[0m: name 'sc' is not defined"
     ]
    }
   ],
   "source": [
    "scores = [6,7,3,2,7]\n",
    "sc_set = set(scores)\n",
    "top= max(sc_set)\n",
    "sc.set.remove(top)\n",
    "print(max(sc_set))"
   ]
  },
  {
   "cell_type": "code",
   "execution_count": 31,
   "id": "ee17cc94",
   "metadata": {},
   "outputs": [
    {
     "ename": "NameError",
     "evalue": "name 'set_1' is not defined",
     "output_type": "error",
     "traceback": [
      "\u001b[1;31m---------------------------------------------------------------------------\u001b[0m",
      "\u001b[1;31mNameError\u001b[0m                                 Traceback (most recent call last)",
      "Cell \u001b[1;32mIn[31], line 1\u001b[0m\n\u001b[1;32m----> 1\u001b[0m set_1(\u001b[38;5;241m1\u001b[39m,\u001b[38;5;241m2\u001b[39m,\u001b[38;5;241m3\u001b[39m,\u001b[38;5;241m4\u001b[39m,\u001b[38;5;241m5\u001b[39m)\n\u001b[0;32m      2\u001b[0m set_2(\u001b[38;5;241m5\u001b[39m,\u001b[38;5;241m9\u001b[39m,\u001b[38;5;241m3\u001b[39m,\u001b[38;5;241m2\u001b[39m,\u001b[38;5;241m8\u001b[39m)\n\u001b[0;32m      3\u001b[0m \u001b[38;5;28;01mif\u001b[39;00m set_1\u001b[38;5;241m.\u001b[39mintersection(set_2):\n",
      "\u001b[1;31mNameError\u001b[0m: name 'set_1' is not defined"
     ]
    }
   ],
   "source": [
    "set_1(1,2,3,4,5)\n",
    "set_2(5,9,3,2,8)\n",
    "if set_1.intersection(set_2):\n",
    "    print(set_1&set_2)\n",
    "else:\n",
    "    print(set_1.union(set_2))"
   ]
  },
  {
   "cell_type": "code",
   "execution_count": 32,
   "id": "3984d7bc",
   "metadata": {},
   "outputs": [],
   "source": [
    "D={'John' :[25,32,43],'Peter':[87,55,96],'Ram'[58,55,43],'meena' :{}}"
   ]
  },
  {
   "cell_type": "code",
   "execution_count": null,
   "id": "f5c2188c",
   "metadata": {},
   "outputs": [],
   "source": []
  },
  {
   "cell_type": "code",
   "execution_count": 35,
   "id": "e15e5323",
   "metadata": {},
   "outputs": [
    {
     "ename": "TypeError",
     "evalue": "slice indices must be integers or None or have an __index__ method",
     "output_type": "error",
     "traceback": [
      "\u001b[1;31m---------------------------------------------------------------------------\u001b[0m",
      "\u001b[1;31mTypeError\u001b[0m                                 Traceback (most recent call last)",
      "Cell \u001b[1;32mIn[35], line 2\u001b[0m\n\u001b[0;32m      1\u001b[0m s\u001b[38;5;241m=\u001b[39m\u001b[38;5;124m'\u001b[39m\u001b[38;5;124mNirmala\u001b[39m\u001b[38;5;124m'\u001b[39m\n\u001b[1;32m----> 2\u001b[0m s[s::\u001b[38;5;241m2\u001b[39m]\n",
      "\u001b[1;31mTypeError\u001b[0m: slice indices must be integers or None or have an __index__ method"
     ]
    }
   ],
   "source": [
    "s='Nirmala'\n",
    "s[s::2]"
   ]
  },
  {
   "cell_type": "code",
   "execution_count": 36,
   "id": "4929c69f",
   "metadata": {},
   "outputs": [
    {
     "name": "stdout",
     "output_type": "stream",
     "text": [
      "Elder =  48\n",
      "youngest=  23\n"
     ]
    }
   ],
   "source": [
    "age = [23,36,48]\n",
    "print('Elder = ',max(age))\n",
    "print('youngest= ',min(age))"
   ]
  },
  {
   "cell_type": "code",
   "execution_count": null,
   "id": "69934598",
   "metadata": {},
   "outputs": [],
   "source": []
  },
  {
   "cell_type": "code",
   "execution_count": null,
   "id": "29fe9981",
   "metadata": {},
   "outputs": [],
   "source": []
  },
  {
   "cell_type": "code",
   "execution_count": null,
   "id": "bce111c3",
   "metadata": {},
   "outputs": [],
   "source": []
  },
  {
   "cell_type": "code",
   "execution_count": null,
   "id": "200f9658",
   "metadata": {},
   "outputs": [],
   "source": []
  },
  {
   "cell_type": "code",
   "execution_count": null,
   "id": "69e4ebfc",
   "metadata": {},
   "outputs": [],
   "source": []
  },
  {
   "cell_type": "code",
   "execution_count": null,
   "id": "9169e082",
   "metadata": {},
   "outputs": [],
   "source": []
  }
 ],
 "metadata": {
  "kernelspec": {
   "display_name": "Python 3 (ipykernel)",
   "language": "python",
   "name": "python3"
  },
  "language_info": {
   "codemirror_mode": {
    "name": "ipython",
    "version": 3
   },
   "file_extension": ".py",
   "mimetype": "text/x-python",
   "name": "python",
   "nbconvert_exporter": "python",
   "pygments_lexer": "ipython3",
   "version": "3.11.5"
  }
 },
 "nbformat": 4,
 "nbformat_minor": 5
}
